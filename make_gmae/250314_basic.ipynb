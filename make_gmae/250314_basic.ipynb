{
 "cells": [
  {
   "cell_type": "markdown",
   "metadata": {},
   "source": [
    "## 변수\n"
   ]
  },
  {
   "cell_type": "code",
   "execution_count": 14,
   "metadata": {},
   "outputs": [
    {
     "name": "stdout",
     "output_type": "stream",
     "text": [
      "10\n",
      "<class 'int'>\n"
     ]
    }
   ],
   "source": [
    "a = 10\n",
    "print(a)\n",
    "print(type(a))"
   ]
  },
  {
   "cell_type": "code",
   "execution_count": 15,
   "metadata": {},
   "outputs": [
    {
     "name": "stdout",
     "output_type": "stream",
     "text": [
      "3.14\n",
      "<class 'float'>\n"
     ]
    }
   ],
   "source": [
    "b = 3.14\n",
    "print(b)\n",
    "print(type(b))"
   ]
  },
  {
   "cell_type": "code",
   "execution_count": 16,
   "metadata": {},
   "outputs": [
    {
     "name": "stdout",
     "output_type": "stream",
     "text": [
      "박태주\n",
      "<class 'str'>\n"
     ]
    }
   ],
   "source": [
    "s = \"박태주\"\n",
    "print(s)\n",
    "print(type(s))"
   ]
  },
  {
   "cell_type": "markdown",
   "metadata": {},
   "source": [
    "## 연산자\n",
    "### 산술 연산자"
   ]
  },
  {
   "cell_type": "code",
   "execution_count": 17,
   "metadata": {},
   "outputs": [
    {
     "name": "stdout",
     "output_type": "stream",
     "text": [
      "27\n",
      "-7\n",
      "170\n",
      "0.5882352941176471\n",
      "0\n",
      "10\n",
      "8\n",
      "1.4142135623730951\n"
     ]
    }
   ],
   "source": [
    "a = 10 \n",
    "b = 17\n",
    "\n",
    "print(a + b) \n",
    "print(a - b) \n",
    "print(a * b)\n",
    "print(a / b)\n",
    "print(a // b) \n",
    "print(a % b)\n",
    "print(2 ** 3) \n",
    "print(2 ** 0.5) "
   ]
  },
  {
   "cell_type": "markdown",
   "metadata": {},
   "source": [
    "## 비교 연산"
   ]
  },
  {
   "cell_type": "code",
   "execution_count": 18,
   "metadata": {},
   "outputs": [
    {
     "name": "stdout",
     "output_type": "stream",
     "text": [
      "True\n",
      "False\n",
      "True\n",
      "False\n"
     ]
    }
   ],
   "source": [
    "c = 5\n",
    "d = 7\n",
    "print(c < d) \n",
    "print(c > d) \n",
    "print(c <= d)\n",
    "print(c >= d) "
   ]
  },
  {
   "cell_type": "code",
   "execution_count": 19,
   "metadata": {},
   "outputs": [
    {
     "name": "stdout",
     "output_type": "stream",
     "text": [
      "False\n",
      "True\n"
     ]
    }
   ],
   "source": [
    "e = 10\n",
    "f = 11\n",
    "print(e == f)\n",
    "print(e != f) "
   ]
  },
  {
   "cell_type": "markdown",
   "metadata": {},
   "source": [
    "\n",
    "## 논리 연산자 (and, or, not)\n",
    "### A and B : 두 조건이 둘 다 참 일때만 참"
   ]
  },
  {
   "cell_type": "code",
   "execution_count": 20,
   "metadata": {},
   "outputs": [
    {
     "name": "stdout",
     "output_type": "stream",
     "text": [
      "True\n",
      "False\n",
      "False\n",
      "False\n"
     ]
    }
   ],
   "source": [
    "a,b = 1,2\n",
    "c,d = 1,3\n",
    "\n",
    "print(a == c and b < d)\n",
    "print(a != c and b < d)\n",
    "print(a == c and b >= d)\n",
    "print(a != c and b > d)"
   ]
  },
  {
   "cell_type": "markdown",
   "metadata": {},
   "source": [
    "### A or B : 두 조건 중 하나라도 참 일때만 참\n"
   ]
  },
  {
   "cell_type": "code",
   "execution_count": 21,
   "metadata": {},
   "outputs": [
    {
     "name": "stdout",
     "output_type": "stream",
     "text": [
      "True\n",
      "True\n",
      "True\n",
      "False\n"
     ]
    }
   ],
   "source": [
    "a,b = 1,2\n",
    "c,d = 1,3\n",
    "\n",
    "print(a == c or b < d)\n",
    "print(a != c or b < d)\n",
    "print(a == c or b >= d)\n",
    "print(a != c or b > d)"
   ]
  },
  {
   "cell_type": "markdown",
   "metadata": {},
   "source": [
    "Not"
   ]
  },
  {
   "cell_type": "markdown",
   "metadata": {},
   "source": [
    "## 복합 대입 연산자"
   ]
  },
  {
   "cell_type": "code",
   "execution_count": 22,
   "metadata": {},
   "outputs": [
    {
     "name": "stdout",
     "output_type": "stream",
     "text": [
      "15\n"
     ]
    }
   ],
   "source": [
    "a = 10\n",
    "\n",
    "# a 에 5를 더한 값을 다시 a라는 변수로 선언하고 싶으면\n",
    "a = a + 5\n",
    "print(a)"
   ]
  },
  {
   "cell_type": "code",
   "execution_count": 23,
   "metadata": {},
   "outputs": [
    {
     "name": "stdout",
     "output_type": "stream",
     "text": [
      "15\n"
     ]
    }
   ],
   "source": [
    "a = 10\n",
    "a += 5\n",
    "print(a)"
   ]
  },
  {
   "cell_type": "markdown",
   "metadata": {},
   "source": [
    "## 조건문\n",
    "```python\n",
    "# 형식\n",
    "if 조건: \n",
    "    실행문\n",
    "```"
   ]
  },
  {
   "cell_type": "code",
   "execution_count": 27,
   "metadata": {},
   "outputs": [
    {
     "name": "stdout",
     "output_type": "stream",
     "text": [
      "미성년자입니다\n"
     ]
    }
   ],
   "source": [
    "age = 18\n",
    "\n",
    "if age < 19:\n",
    "    print(\"미성년자입니다\")"
   ]
  },
  {
   "cell_type": "markdown",
   "metadata": {},
   "source": [
    "## else\n",
    "- 조건문에서 위의 조건을 전부 제외한 조건"
   ]
  },
  {
   "cell_type": "code",
   "execution_count": 29,
   "metadata": {},
   "outputs": [
    {
     "name": "stdout",
     "output_type": "stream",
     "text": [
      "미성년자입니다\n"
     ]
    }
   ],
   "source": [
    "age = 18\n",
    "\n",
    "if age < 19:\n",
    "    print(\"미성년자입니다\")\n",
    "else: \n",
    "    print(\"성인입니다\")"
   ]
  },
  {
   "cell_type": "markdown",
   "metadata": {},
   "source": [
    "## 입력받기\n",
    "```python\n",
    "변수 = input(\"설명문\")\n",
    "```"
   ]
  },
  {
   "cell_type": "code",
   "execution_count": 34,
   "metadata": {},
   "outputs": [
    {
     "name": "stdout",
     "output_type": "stream",
     "text": [
      "13\n",
      "23\n"
     ]
    }
   ],
   "source": [
    "age = int(input(\"나이를 입력해주세요: \"))\n",
    "print(age)\n",
    "\n",
    "print(age + 10)"
   ]
  },
  {
   "cell_type": "code",
   "execution_count": 35,
   "metadata": {},
   "outputs": [
    {
     "name": "stdout",
     "output_type": "stream",
     "text": [
      "성인입니다.\n"
     ]
    }
   ],
   "source": [
    "age = int(input(\"나이를 입력해주세요: \"))\n",
    "\n",
    "if age < 19:\n",
    "    print(\"미성년자입니다.\")\n",
    "else:\n",
    "    print(\"성인입니다.\")"
   ]
  },
  {
   "cell_type": "markdown",
   "metadata": {},
   "source": [
    "## elif(else if)\n",
    "- if 다음에 작성되는 문법\n",
    "- if 외에 별개의 조건을 작성하고 싶을 때 쓰는 문법\n",
    "- elif 뒤에 else는 있어도 되고, 없어도 됨"
   ]
  },
  {
   "cell_type": "code",
   "execution_count": null,
   "metadata": {},
   "outputs": [
    {
     "name": "stdout",
     "output_type": "stream",
     "text": [
      "고등학생입니다.\n"
     ]
    }
   ],
   "source": [
    "age = int(input(\"나이를 입력해주세요: \"))\n",
    "\n",
    "if age >= 19:\n",
    "    print(\"성인입니다.\")\n",
    "elif age >= 17 and age < 19: # 17 ~ 19\n",
    "    print(\"고등학생입니다.\")\n",
    "else:\n",
    "    print(\"미성년자입니다.\")"
   ]
  },
  {
   "cell_type": "code",
   "execution_count": null,
   "metadata": {},
   "outputs": [
    {
     "name": "stdout",
     "output_type": "stream",
     "text": [
      "초등학생입니다.\n"
     ]
    }
   ],
   "source": [
    "\n",
    "age = int(input(\"나이를 입력해주세요: \"))\n",
    "\n",
    "if (age >= 19):\n",
    "    print(\"성인입니다.\")\n",
    "elif age >= 17 and age < 19:\n",
    "    print(\"고등학생입니다.\")\n",
    "elif age >= 14 and age < 17:\n",
    "    print(\"중학생입니다.\")\n",
    "elif age >= 8 and age < 14:\n",
    "    print(\"초등학생입니다.\")\n",
    "else: \n",
    "    print(\"유아입니다.\")"
   ]
  },
  {
   "cell_type": "markdown",
   "metadata": {},
   "source": [
    "# 반복문\n",
    "- for\n",
    "- while\n",
    "\n",
    "## for문\n",
    "- 횟수를 기준으로 반복하는 문법\n",
    "\n",
    "```python\n",
    "for i in range(시작값, 종료값, 중앙값):\n",
    "    실행하고자 하는 코드\n",
    "```"
   ]
  },
  {
   "cell_type": "code",
   "execution_count": 2,
   "metadata": {},
   "outputs": [
    {
     "name": "stdout",
     "output_type": "stream",
     "text": [
      "1\n",
      "2\n",
      "3\n",
      "4\n",
      "5\n",
      "6\n",
      "7\n",
      "8\n",
      "9\n",
      "10\n"
     ]
    }
   ],
   "source": [
    "# 1 ~ 10을 출력하기\n",
    "for i in range(1, 11, 1):\n",
    "    # range(11)\n",
    "    print(i)"
   ]
  },
  {
   "cell_type": "code",
   "execution_count": 3,
   "metadata": {},
   "outputs": [
    {
     "name": "stdout",
     "output_type": "stream",
     "text": [
      "철수\n",
      "길동\n",
      "이야\n"
     ]
    }
   ],
   "source": [
    "a_list = [\"철수\", \"길동\", \"이야\"]\n",
    "for i in a_list:\n",
    "    print(i)"
   ]
  },
  {
   "cell_type": "code",
   "execution_count": 4,
   "metadata": {},
   "outputs": [
    {
     "name": "stdout",
     "output_type": "stream",
     "text": [
      "02468101214161820222426283032343638404244464850525456586062646668707274767880828486889092949698100"
     ]
    }
   ],
   "source": [
    "# 0 - 100 사이에 있는 짝수 출력\n",
    "for i in range(101):\n",
    "    if i%2 == 0:\n",
    "        print(i, end = '')"
   ]
  },
  {
   "cell_type": "markdown",
   "metadata": {},
   "source": [
    "## While문\n",
    "- 조건이 참 이면 반복하고, 조건이 거짓이면 탈출"
   ]
  },
  {
   "cell_type": "code",
   "execution_count": 5,
   "metadata": {},
   "outputs": [
    {
     "name": "stdout",
     "output_type": "stream",
     "text": [
      "0\n",
      "1\n",
      "2\n",
      "3\n",
      "4\n",
      "5\n",
      "6\n",
      "7\n",
      "8\n",
      "9\n",
      "10\n"
     ]
    }
   ],
   "source": [
    "a = 0\n",
    "while a <= 10:\n",
    "    print(a)\n",
    "    a += 1"
   ]
  },
  {
   "cell_type": "markdown",
   "metadata": {},
   "source": [
    "## 문제\n",
    "1. 1 ~ 100 사이의 소수를 출력해보세요\n",
    "- 소수가 무슨 수인지 찾아보기기"
   ]
  },
  {
   "cell_type": "code",
   "execution_count": 6,
   "metadata": {},
   "outputs": [
    {
     "name": "stdout",
     "output_type": "stream",
     "text": [
      "2 3 5 7 11 13 17 19 23 29 31 37 41 43 47 53 59 61 67 71 73 79 83 89 97 "
     ]
    }
   ],
   "source": [
    "for i in range(2, 101):\n",
    "    if all(i % j != 0 for j in range(2, int(i**0.5) + 1)):\n",
    "        print(i, end=\" \")"
   ]
  }
 ],
 "metadata": {
  "kernelspec": {
   "display_name": "Python 3",
   "language": "python",
   "name": "python3"
  },
  "language_info": {
   "codemirror_mode": {
    "name": "ipython",
    "version": 3
   },
   "file_extension": ".py",
   "mimetype": "text/x-python",
   "name": "python",
   "nbconvert_exporter": "python",
   "pygments_lexer": "ipython3",
   "version": "3.12.4"
  }
 },
 "nbformat": 4,
 "nbformat_minor": 2
}
