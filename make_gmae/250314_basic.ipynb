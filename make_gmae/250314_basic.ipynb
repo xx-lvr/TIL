{
 "cells": [
  {
   "cell_type": "markdown",
   "metadata": {},
   "source": [
    "## 변수\n"
   ]
  },
  {
   "cell_type": "code",
   "execution_count": 14,
   "metadata": {},
   "outputs": [
    {
     "name": "stdout",
     "output_type": "stream",
     "text": [
      "10\n",
      "<class 'int'>\n"
     ]
    }
   ],
   "source": [
    "a = 10\n",
    "print(a)\n",
    "print(type(a))"
   ]
  },
  {
   "cell_type": "code",
   "execution_count": 15,
   "metadata": {},
   "outputs": [
    {
     "name": "stdout",
     "output_type": "stream",
     "text": [
      "3.14\n",
      "<class 'float'>\n"
     ]
    }
   ],
   "source": [
    "b = 3.14\n",
    "print(b)\n",
    "print(type(b))"
   ]
  },
  {
   "cell_type": "code",
   "execution_count": 16,
   "metadata": {},
   "outputs": [
    {
     "name": "stdout",
     "output_type": "stream",
     "text": [
      "박태주\n",
      "<class 'str'>\n"
     ]
    }
   ],
   "source": [
    "s = \"박태주\"\n",
    "print(s)\n",
    "print(type(s))"
   ]
  },
  {
   "cell_type": "markdown",
   "metadata": {},
   "source": [
    "## 연산자\n",
    "### 산술 연산자"
   ]
  },
  {
   "cell_type": "code",
   "execution_count": 17,
   "metadata": {},
   "outputs": [
    {
     "name": "stdout",
     "output_type": "stream",
     "text": [
      "27\n",
      "-7\n",
      "170\n",
      "0.5882352941176471\n",
      "0\n",
      "10\n",
      "8\n",
      "1.4142135623730951\n"
     ]
    }
   ],
   "source": [
    "a = 10 \n",
    "b = 17\n",
    "\n",
    "print(a + b) \n",
    "print(a - b) \n",
    "print(a * b)\n",
    "print(a / b)\n",
    "print(a // b) \n",
    "print(a % b)\n",
    "print(2 ** 3) \n",
    "print(2 ** 0.5) "
   ]
  },
  {
   "cell_type": "markdown",
   "metadata": {},
   "source": [
    "## 비교 연산"
   ]
  },
  {
   "cell_type": "code",
   "execution_count": 18,
   "metadata": {},
   "outputs": [
    {
     "name": "stdout",
     "output_type": "stream",
     "text": [
      "True\n",
      "False\n",
      "True\n",
      "False\n"
     ]
    }
   ],
   "source": [
    "c = 5\n",
    "d = 7\n",
    "print(c < d) \n",
    "print(c > d) \n",
    "print(c <= d)\n",
    "print(c >= d) "
   ]
  },
  {
   "cell_type": "code",
   "execution_count": 19,
   "metadata": {},
   "outputs": [
    {
     "name": "stdout",
     "output_type": "stream",
     "text": [
      "False\n",
      "True\n"
     ]
    }
   ],
   "source": [
    "e = 10\n",
    "f = 11\n",
    "print(e == f)\n",
    "print(e != f) "
   ]
  },
  {
   "cell_type": "markdown",
   "metadata": {},
   "source": [
    "\n",
    "## 논리 연산자 (and, or, not)\n",
    "### A and B : 두 조건이 둘 다 참 일때만 참"
   ]
  },
  {
   "cell_type": "code",
   "execution_count": 20,
   "metadata": {},
   "outputs": [
    {
     "name": "stdout",
     "output_type": "stream",
     "text": [
      "True\n",
      "False\n",
      "False\n",
      "False\n"
     ]
    }
   ],
   "source": [
    "a,b = 1,2\n",
    "c,d = 1,3\n",
    "\n",
    "print(a == c and b < d)\n",
    "print(a != c and b < d)\n",
    "print(a == c and b >= d)\n",
    "print(a != c and b > d)"
   ]
  },
  {
   "cell_type": "markdown",
   "metadata": {},
   "source": [
    "### A or B : 두 조건 중 하나라도 참 일때만 참\n"
   ]
  },
  {
   "cell_type": "code",
   "execution_count": 21,
   "metadata": {},
   "outputs": [
    {
     "name": "stdout",
     "output_type": "stream",
     "text": [
      "True\n",
      "True\n",
      "True\n",
      "False\n"
     ]
    }
   ],
   "source": [
    "a,b = 1,2\n",
    "c,d = 1,3\n",
    "\n",
    "print(a == c or b < d)\n",
    "print(a != c or b < d)\n",
    "print(a == c or b >= d)\n",
    "print(a != c or b > d)"
   ]
  },
  {
   "cell_type": "markdown",
   "metadata": {},
   "source": [
    "Not"
   ]
  },
  {
   "cell_type": "markdown",
   "metadata": {},
   "source": [
    "## 복합 대입 연산자"
   ]
  },
  {
   "cell_type": "code",
   "execution_count": 22,
   "metadata": {},
   "outputs": [
    {
     "name": "stdout",
     "output_type": "stream",
     "text": [
      "15\n"
     ]
    }
   ],
   "source": [
    "a = 10\n",
    "\n",
    "# a 에 5를 더한 값을 다시 a라는 변수로 선언하고 싶으면\n",
    "a = a + 5\n",
    "print(a)"
   ]
  },
  {
   "cell_type": "code",
   "execution_count": 23,
   "metadata": {},
   "outputs": [
    {
     "name": "stdout",
     "output_type": "stream",
     "text": [
      "15\n"
     ]
    }
   ],
   "source": [
    "a = 10\n",
    "a += 5\n",
    "print(a)"
   ]
  },
  {
   "cell_type": "markdown",
   "metadata": {},
   "source": [
    "## 조건문\n",
    "```python\n",
    "# 형식\n",
    "if 조건: \n",
    "    실행문\n",
    "```"
   ]
  },
  {
   "cell_type": "code",
   "execution_count": 27,
   "metadata": {},
   "outputs": [
    {
     "name": "stdout",
     "output_type": "stream",
     "text": [
      "미성년자입니다\n"
     ]
    }
   ],
   "source": [
    "age = 18\n",
    "\n",
    "if age < 19:\n",
    "    print(\"미성년자입니다\")"
   ]
  },
  {
   "cell_type": "markdown",
   "metadata": {},
   "source": [
    "## else\n",
    "- 조건문에서 위의 조건을 전부 제외한 조건"
   ]
  },
  {
   "cell_type": "code",
   "execution_count": 29,
   "metadata": {},
   "outputs": [
    {
     "name": "stdout",
     "output_type": "stream",
     "text": [
      "미성년자입니다\n"
     ]
    }
   ],
   "source": [
    "age = 18\n",
    "\n",
    "if age < 19:\n",
    "    print(\"미성년자입니다\")\n",
    "else: \n",
    "    print(\"성인입니다\")"
   ]
  },
  {
   "cell_type": "markdown",
   "metadata": {},
   "source": [
    "## 입력받기\n",
    "```python\n",
    "변수 = input(\"설명문\")\n",
    "```"
   ]
  },
  {
   "cell_type": "code",
   "execution_count": 34,
   "metadata": {},
   "outputs": [
    {
     "name": "stdout",
     "output_type": "stream",
     "text": [
      "13\n",
      "23\n"
     ]
    }
   ],
   "source": [
    "age = int(input(\"나이를 입력해주세요: \"))\n",
    "print(age)\n",
    "\n",
    "print(age + 10)"
   ]
  },
  {
   "cell_type": "code",
   "execution_count": 35,
   "metadata": {},
   "outputs": [
    {
     "name": "stdout",
     "output_type": "stream",
     "text": [
      "성인입니다.\n"
     ]
    }
   ],
   "source": [
    "age = int(input(\"나이를 입력해주세요: \"))\n",
    "\n",
    "if age < 19:\n",
    "    print(\"미성년자입니다.\")\n",
    "else:\n",
    "    print(\"성인입니다.\")"
   ]
  },
  {
   "cell_type": "markdown",
   "metadata": {},
   "source": [
    "## elif(else if)\n",
    "- if 다음에 작성되는 문법\n",
    "- if 외에 별개의 조건을 작성하고 싶을 때 쓰는 문법\n",
    "- elif 뒤에 else는 있어도 되고, 없어도 됨"
   ]
  },
  {
   "cell_type": "code",
   "execution_count": null,
   "metadata": {},
   "outputs": [
    {
     "name": "stdout",
     "output_type": "stream",
     "text": [
      "고등학생입니다.\n"
     ]
    }
   ],
   "source": [
    "age = int(input(\"나이를 입력해주세요: \"))\n",
    "\n",
    "if age >= 19:\n",
    "    print(\"성인입니다.\")\n",
    "elif age >= 17 and age < 19: # 17 ~ 19\n",
    "    print(\"고등학생입니다.\")\n",
    "else:\n",
    "    print(\"미성년자입니다.\")"
   ]
  },
  {
   "cell_type": "code",
   "execution_count": 37,
   "metadata": {},
   "outputs": [
    {
     "name": "stdout",
     "output_type": "stream",
     "text": [
      "초등학생입니다.\n"
     ]
    }
   ],
   "source": [
    "age = int(input(\"나이를 입력해주세요: \"))\n",
    "\n",
    "if (age >= 19):\n",
    "    print(\"성인입니다.\")\n",
    "elif age >= 17 and age < 19:\n",
    "    print(\"고등학생입니다.\")\n",
    "elif age >= 14 and age < 17:\n",
    "    print(\"중학생입니다.\")\n",
    "elif age >= 8 and age < 14:\n",
    "    print(\"초등학생입니다.\")\n",
    "else: \n",
    "    print(\"유아입니다.\")"
   ]
  }
 ],
 "metadata": {
  "kernelspec": {
   "display_name": "Python 3",
   "language": "python",
   "name": "python3"
  },
  "language_info": {
   "codemirror_mode": {
    "name": "ipython",
    "version": 3
   },
   "file_extension": ".py",
   "mimetype": "text/x-python",
   "name": "python",
   "nbconvert_exporter": "python",
   "pygments_lexer": "ipython3",
   "version": "3.12.4"
  }
 },
 "nbformat": 4,
 "nbformat_minor": 2
}
