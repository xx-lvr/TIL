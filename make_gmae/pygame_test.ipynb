{
 "cells": [
  {
   "cell_type": "code",
   "execution_count": 6,
   "metadata": {},
   "outputs": [
    {
     "name": "stdout",
     "output_type": "stream",
     "text": [
      "pygame 2.6.1 (SDL 2.28.4, Python 3.12.4)\n",
      "Hello from the pygame community. https://www.pygame.org/contribute.html\n"
     ]
    }
   ],
   "source": [
    "import pygame"
   ]
  },
  {
   "cell_type": "code",
   "execution_count": null,
   "metadata": {},
   "outputs": [],
   "source": []
  },
  {
   "cell_type": "code",
   "execution_count": 5,
   "metadata": {},
   "outputs": [
    {
     "ename": "AttributeError",
     "evalue": "module 'pygame' has no attribute 'ecent'",
     "output_type": "error",
     "traceback": [
      "\u001b[31m---------------------------------------------------------------------------\u001b[39m",
      "\u001b[31mAttributeError\u001b[39m                            Traceback (most recent call last)",
      "\u001b[36mCell\u001b[39m\u001b[36m \u001b[39m\u001b[32mIn[5]\u001b[39m\u001b[32m, line 13\u001b[39m\n\u001b[32m     11\u001b[39m \u001b[38;5;28;01mwhile\u001b[39;00m \u001b[38;5;28;01mTrue\u001b[39;00m:\n\u001b[32m     12\u001b[39m     screen.fill(WHITE)\n\u001b[32m---> \u001b[39m\u001b[32m13\u001b[39m     \u001b[38;5;28;01mfor\u001b[39;00m event \u001b[38;5;129;01min\u001b[39;00m \u001b[43mpygame\u001b[49m\u001b[43m.\u001b[49m\u001b[43mecent\u001b[49m.get():\n\u001b[32m     14\u001b[39m         \u001b[38;5;28;01mif\u001b[39;00m event.type == pygame.QUIT:\n\u001b[32m     15\u001b[39m             running = false\n",
      "\u001b[31mAttributeError\u001b[39m: module 'pygame' has no attribute 'ecent'"
     ]
    }
   ],
   "source": [
    "# 창을 만드는 것부터 시작\n",
    "import pygame\n",
    "\n",
    "width = 600\n",
    "height = 400\n",
    "WHITE = (255,255,255)\n",
    "\n",
    "pygame.init()\n",
    "screen = pygame.display.set_mode((width, height))\n",
    "\n",
    "while True:\n",
    "    screen.fill(WHITE)\n",
    "    for event in pygame.ecent.get():\n",
    "        if event.type == pygame.QUIT:\n",
    "            running = false\n",
    "    \n",
    "    exam_rect = pygame.Rect(150,200,50,50)\n",
    "    \n",
    "    pygame.draw.rect(screen, (255, 0, 0), exam_rect)\n",
    "\n",
    "    pygame.display.update()\n",
    "    event = pygame.event.poll()\n",
    "    if event.type == pygame.QUIT:\n",
    "        break\n",
    "\n",
    "pygame.quit()"
   ]
  },
  {
   "cell_type": "markdown",
   "metadata": {},
   "source": [
    "## 스네이크 게임 분석\n",
    "1. start 버튼을 누른다\n",
    "2. 화면 안에 뱀이 돌아다닐 수 있는 공간이 표시된다.\n",
    "3. 2번 공간 안에 뱀과 과일이 표시됨됨\n",
    "- 뱀은 키보드의 화살표를 눌러서 이동할 수 있음\n",
    "- 과일을 먹으면 과일이 사라지고, 점수가 오르고, 뱀의 꼬리가 한 칸 늘어남\n",
    "- 과일이 랜덤하게 2번 공간 내에서 다시 생성\n",
    "4. 뱀이 자기 몸에 부딪히거나, 벽에 부딪히면 게임이 종료됨\n",
    "- 점수를 반환\n",
    "5. 재시작 버튼을 누르면 1번 화면으로 돌아간다.\n",
    "n. 종료된다."
   ]
  }
 ],
 "metadata": {
  "kernelspec": {
   "display_name": "Python 3",
   "language": "python",
   "name": "python3"
  },
  "language_info": {
   "codemirror_mode": {
    "name": "ipython",
    "version": 3
   },
   "file_extension": ".py",
   "mimetype": "text/x-python",
   "name": "python",
   "nbconvert_exporter": "python",
   "pygments_lexer": "ipython3",
   "version": "3.12.4"
  }
 },
 "nbformat": 4,
 "nbformat_minor": 2
}
