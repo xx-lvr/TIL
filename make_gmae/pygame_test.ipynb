{
 "cells": [
  {
   "cell_type": "code",
   "execution_count": 6,
   "metadata": {},
   "outputs": [
    {
     "name": "stdout",
     "output_type": "stream",
     "text": [
      "pygame 2.6.1 (SDL 2.28.4, Python 3.12.4)\n",
      "Hello from the pygame community. https://www.pygame.org/contribute.html\n"
     ]
    }
   ],
   "source": [
    "import pygame"
   ]
  },
  {
   "cell_type": "code",
   "execution_count": 5,
   "metadata": {},
   "outputs": [
    {
     "ename": "AttributeError",
     "evalue": "module 'pygame' has no attribute 'ecent'",
     "output_type": "error",
     "traceback": [
      "\u001b[31m---------------------------------------------------------------------------\u001b[39m",
      "\u001b[31mAttributeError\u001b[39m                            Traceback (most recent call last)",
      "\u001b[36mCell\u001b[39m\u001b[36m \u001b[39m\u001b[32mIn[5]\u001b[39m\u001b[32m, line 13\u001b[39m\n\u001b[32m     11\u001b[39m \u001b[38;5;28;01mwhile\u001b[39;00m \u001b[38;5;28;01mTrue\u001b[39;00m:\n\u001b[32m     12\u001b[39m     screen.fill(WHITE)\n\u001b[32m---> \u001b[39m\u001b[32m13\u001b[39m     \u001b[38;5;28;01mfor\u001b[39;00m event \u001b[38;5;129;01min\u001b[39;00m \u001b[43mpygame\u001b[49m\u001b[43m.\u001b[49m\u001b[43mecent\u001b[49m.get():\n\u001b[32m     14\u001b[39m         \u001b[38;5;28;01mif\u001b[39;00m event.type == pygame.QUIT:\n\u001b[32m     15\u001b[39m             running = false\n",
      "\u001b[31mAttributeError\u001b[39m: module 'pygame' has no attribute 'ecent'"
     ]
    }
   ],
   "source": [
    "# 창을 만드는 것부터 시작\n",
    "import pygame\n",
    "\n",
    "width = 600\n",
    "height = 400\n",
    "WHITE = (255,255,255)\n",
    "\n",
    "pygame.init()\n",
    "screen = pygame.display.set_mode((width, height))\n",
    "\n",
    "while True:\n",
    "    screen.fill(WHITE)\n",
    "    for event in pygame.ecent.get():\n",
    "        if event.type == pygame.QUIT:\n",
    "            running = false\n",
    "    \n",
    "    exam_rect = pygame.Rect(150,200,50,50)\n",
    "    \n",
    "    pygame.draw.rect(screen, (255, 0, 0), exam_rect)\n",
    "\n",
    "    pygame.display.update()\n",
    "    event = pygame.event.poll()\n",
    "    if event.type == pygame.QUIT:\n",
    "        break\n",
    "\n",
    "pygame.quit()"
   ]
  },
  {
   "cell_type": "markdown",
   "metadata": {},
   "source": [
    "## 스네이크 게임 분석\n",
    "1. start 버튼을 누른다\n",
    "2. 화면 안에 뱀이 돌아다닐 수 있는 공간이 표시된다.\n",
    "3. 2번 공간 안에 뱀과 과일이 표시됨됨\n",
    "- 뱀은 키보드의 화살표를 눌러서 이동할 수 있음\n",
    "- 과일을 먹으면 과일이 사라지고, 점수가 오르고, 뱀의 꼬리가 한 칸 늘어남\n",
    "- 과일이 랜덤하게 2번 공간 내에서 다시 생성\n",
    "4. 뱀이 자기 몸에 부딪히거나, 벽에 부딪히면 게임이 종료됨\n",
    "- 점수를 반환\n",
    "5. 재시작 버튼을 누르면 1번 화면으로 돌아간다.\n",
    "n. 종료된다."
   ]
  },
  {
   "cell_type": "code",
   "execution_count": null,
   "metadata": {},
   "outputs": [
    {
     "name": "stdout",
     "output_type": "stream",
     "text": [
      "pygame 2.6.1 (SDL 2.28.4, Python 3.12.4)\n",
      "Hello from the pygame community. https://www.pygame.org/contribute.html\n"
     ]
    }
   ],
   "source": [
    "import pygame\n",
    "import random\n",
    "width = 600\n",
    "height = 400\n",
    "count = 0\n",
    "\n",
    "WHITE = (255, 255, 255)\n",
    "BLUE = (0, 0, 255)\n",
    "RED = (255, 0, 0)\n",
    "\n",
    "pygame.init()\n",
    "screen = pygame.display.set_mode((width, height))\n",
    "pygame.display.set_caption(\"Snake Game\")  # 창 제목 추가\n",
    "\n",
    "clock = pygame.time.Clock()  # 프레임 속도 조절\n",
    "\n",
    "x1, y1 = width // 2, height // 2\n",
    "x1_change, y1_change = 0, 0\n",
    "sneak_size = 10\n",
    "\n",
    "snake_length = 1\n",
    "\n",
    "\n",
    "clock = pygame.time.Clock()  # 프레임 속도 조절\n",
    "\n",
    "food_x = (random.randrange(0, width - sneak_size, sneak_size)//10)*10\n",
    "food_y = (random.randrange(0, height - sneak_size, sneak_size)//10)*10\n",
    "\n",
    "running = True\n",
    "while running:\n",
    "    for event in pygame.event.get():\n",
    "        if event.type == pygame.QUIT:\n",
    "            running = False\n",
    "        elif event.type == pygame.KEYDOWN:\n",
    "            if event.key == pygame.K_LEFT:\n",
    "                x1_change = -sneak_size\n",
    "                y1_change = 0\n",
    "            elif event.key == pygame.K_RIGHT:\n",
    "                x1_change = sneak_size\n",
    "                y1_change = 0\n",
    "            elif event.key == pygame.K_UP:\n",
    "                y1_change = -sneak_size\n",
    "                x1_change = 0\n",
    "            elif event.key == pygame.K_DOWN:\n",
    "                y1_change = sneak_size\n",
    "                x1_change = 0\n",
    "\n",
    "    x1 += x1_change\n",
    "    y1 += y1_change\n",
    "\n",
    "\n",
    "    if x1 == food_x and y1 == food_y:\n",
    "        food_x = (random.randrange(0, width - sneak_size, sneak_size)//10)*10\n",
    "        food_y = (random.randrange(0, height - sneak_size, sneak_size)//10)*10\n",
    "        count += 1\n",
    "    screen.fill(WHITE)\n",
    "    pygame.draw.rect(screen, BLUE, (x1, y1, sneak_size, sneak_size))\n",
    "    pygame.draw.rect(screen, RED, (food_x, food_y, sneak_size, sneak_size))\n",
    "\n",
    "    pygame.display.update()\n",
    "    clock.tick(10)  # 초당 10 프레임으로 조절\n",
    "\n",
    "pygame.quit()"
   ]
  },
  {
   "cell_type": "markdown",
   "metadata": {},
   "source": [
    "1. 과일을 먹으면 뱀의 길이가 늘어난다.\n",
    "2. 뱀이 자기 몸에 부딪히면 죽는다\n",
    "3. 벽에 부딪히면 죽는다다"
   ]
  },
  {
   "cell_type": "code",
   "execution_count": null,
   "metadata": {},
   "outputs": [],
   "source": []
  }
 ],
 "metadata": {
  "kernelspec": {
   "display_name": "Python 3",
   "language": "python",
   "name": "python3"
  },
  "language_info": {
   "codemirror_mode": {
    "name": "ipython",
    "version": 3
   },
   "file_extension": ".py",
   "mimetype": "text/x-python",
   "name": "python",
   "nbconvert_exporter": "python",
   "pygments_lexer": "ipython3",
   "version": "3.12.4"
  }
 },
 "nbformat": 4,
 "nbformat_minor": 2
}
