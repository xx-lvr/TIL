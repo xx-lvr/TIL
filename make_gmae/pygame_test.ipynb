{
 "cells": [
  {
   "cell_type": "code",
   "execution_count": 6,
   "metadata": {},
   "outputs": [
    {
     "name": "stdout",
     "output_type": "stream",
     "text": [
      "pygame 2.6.1 (SDL 2.28.4, Python 3.12.4)\n",
      "Hello from the pygame community. https://www.pygame.org/contribute.html\n"
     ]
    }
   ],
   "source": [
    "import pygame"
   ]
  },
  {
   "cell_type": "code",
   "execution_count": 10,
   "metadata": {},
   "outputs": [],
   "source": [
    "# 창을 만드는 것부터 시작\n",
    "import pygame\n",
    "\n",
    "width = 600\n",
    "height = 400\n",
    "WHITE = (255,255,255)\n",
    "\n",
    "pygame.init()\n",
    "screen = pygame.display.set_mode((width, height))\n",
    "\n",
    "while True:\n",
    "    screen.fill(WHITE)\n",
    "    \n",
    "    exam_rect = pygame.Rect(150,200,50,50)\n",
    "    \n",
    "    pygame.draw.rect(screen, (255, 0, 0), exam_rect)\n",
    "\n",
    "    pygame.display.update()\n",
    "    event = pygame.event.poll()\n",
    "    if event.type == pygame.QUIT:\n",
    "        break\n",
    "\n",
    "pygame.quit()"
   ]
  },
  {
   "cell_type": "markdown",
   "metadata": {},
   "source": [
    "## 스네이크 게임 분석\n",
    "1. start 버튼을 누른다\n",
    "2. 화면 안에 뱀이 돌아다닐 수 있는 공간이 표시된다.\n",
    "3. 2번 공간 안에 뱀과 과일이 표시됨됨\n",
    "- 뱀은 키보드의 화살표를 눌러서 이동할 수 있음\n",
    "- 과일을 먹으면 과일이 사라지고, 점수가 오르고, 뱀의 꼬리가 한 칸 늘어남\n",
    "- 과일이 랜덤하게 2번 공간 내에서 다시 생성\n",
    "4. 뱀이 자기 몸에 부딪히거나, 벽에 부딪히면 게임이 종료됨\n",
    "- 점수를 반환\n",
    "5. 재시작 버튼을 누르면 1번 화면으로 돌아간다.\n",
    "n. 종료된다."
   ]
  }
 ],
 "metadata": {
  "kernelspec": {
   "display_name": "Python 3",
   "language": "python",
   "name": "python3"
  },
  "language_info": {
   "codemirror_mode": {
    "name": "ipython",
    "version": 3
   },
   "file_extension": ".py",
   "mimetype": "text/x-python",
   "name": "python",
   "nbconvert_exporter": "python",
   "pygments_lexer": "ipython3",
   "version": "3.12.4"
  }
 },
 "nbformat": 4,
 "nbformat_minor": 2
}
