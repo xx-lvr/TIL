{
 "cells": [
  {
   "cell_type": "code",
   "execution_count": 6,
   "metadata": {},
   "outputs": [
    {
     "name": "stdout",
     "output_type": "stream",
     "text": [
      "pygame 2.6.1 (SDL 2.28.4, Python 3.12.4)\n",
      "Hello from the pygame community. https://www.pygame.org/contribute.html\n"
     ]
    }
   ],
   "source": [
    "import pygame"
   ]
  },
  {
   "cell_type": "code",
   "execution_count": 1,
   "metadata": {},
   "outputs": [
    {
     "name": "stdout",
     "output_type": "stream",
     "text": [
      "pygame 2.6.1 (SDL 2.28.4, Python 3.12.4)\n",
      "Hello from the pygame community. https://www.pygame.org/contribute.html\n"
     ]
    },
    {
     "ename": "AttributeError",
     "evalue": "module 'pygame' has no attribute 'ecent'",
     "output_type": "error",
     "traceback": [
      "\u001b[31m---------------------------------------------------------------------------\u001b[39m",
      "\u001b[31mAttributeError\u001b[39m                            Traceback (most recent call last)",
      "\u001b[36mCell\u001b[39m\u001b[36m \u001b[39m\u001b[32mIn[1]\u001b[39m\u001b[32m, line 13\u001b[39m\n\u001b[32m     11\u001b[39m \u001b[38;5;28;01mwhile\u001b[39;00m \u001b[38;5;28;01mTrue\u001b[39;00m:\n\u001b[32m     12\u001b[39m     screen.fill(WHITE)\n\u001b[32m---> \u001b[39m\u001b[32m13\u001b[39m     \u001b[38;5;28;01mfor\u001b[39;00m event \u001b[38;5;129;01min\u001b[39;00m \u001b[43mpygame\u001b[49m\u001b[43m.\u001b[49m\u001b[43mecent\u001b[49m.get():\n\u001b[32m     14\u001b[39m         \u001b[38;5;28;01mif\u001b[39;00m event.type == pygame.QUIT:\n\u001b[32m     15\u001b[39m             running = false\n",
      "\u001b[31mAttributeError\u001b[39m: module 'pygame' has no attribute 'ecent'"
     ]
    }
   ],
   "source": [
    "# 창을 만드는 것부터 시작\n",
    "import pygame\n",
    "\n",
    "width = 600\n",
    "height = 400\n",
    "WHITE = (255,255,255)\n",
    "\n",
    "pygame.init()\n",
    "screen = pygame.display.set_mode((width, height))\n",
    "\n",
    "while True:\n",
    "    screen.fill(WHITE)\n",
    "    for event in pygame.ecent.get():\n",
    "        if event.type == pygame.QUIT:\n",
    "            running = false\n",
    "    \n",
    "    exam_rect = pygame.Rect(150,200,50,50)\n",
    "    \n",
    "    pygame.draw.rect(screen, (255, 0, 0), exam_rect)\n",
    "\n",
    "    pygame.display.update()\n",
    "    event = pygame.event.poll()\n",
    "    if event.type == pygame.QUIT:\n",
    "        break\n",
    "\n",
    "pygame.quit()"
   ]
  },
  {
   "cell_type": "markdown",
   "metadata": {},
   "source": [
    "## 스네이크 게임 분석\n",
    "1. start 버튼을 누른다\n",
    "2. 화면 안에 뱀이 돌아다닐 수 있는 공간이 표시된다.\n",
    "3. 2번 공간 안에 뱀과 과일이 표시됨됨\n",
    "- 뱀은 키보드의 화살표를 눌러서 이동할 수 있음\n",
    "- 과일을 먹으면 과일이 사라지고, 점수가 오르고, 뱀의 꼬리가 한 칸 늘어남\n",
    "- 과일이 랜덤하게 2번 공간 내에서 다시 생성\n",
    "4. 뱀이 자기 몸에 부딪히거나, 벽에 부딪히면 게임이 종료됨\n",
    "- 점수를 반환\n",
    "5. 재시작 버튼을 누르면 1번 화면으로 돌아간다.\n",
    "n. 종료된다."
   ]
  },
  {
   "cell_type": "code",
   "execution_count": 11,
   "metadata": {},
   "outputs": [],
   "source": [
    "import pygame\n",
    "import random\n",
    "\n",
    "# 게임 초기화\n",
    "pygame.init()\n",
    "\n",
    "# 화면 설정\n",
    "WIDTH, HEIGHT = 600, 400\n",
    "CELL_SIZE = 20\n",
    "screen = pygame.display.set_mode((WIDTH, HEIGHT))\n",
    "pygame.display.set_caption(\"Snake Game\")\n",
    "\n",
    "# 색깔 정의\n",
    "WHITE = (255, 255, 255)\n",
    "GREEN = (0, 255, 0)\n",
    "RED = (255, 0, 0)\n",
    "BLACK = (0, 0, 0)\n",
    "BLUE = (0, 100, 255)\n",
    "GRAY = (200, 200, 200)\n",
    "DARK_GRAY = (100, 100, 100)\n",
    "LIGHT_GREEN = (144, 238, 144)\n",
    "\n",
    "# 폰트 설정\n",
    "font = pygame.font.Font(None, 48)\n",
    "small_font = pygame.font.Font(None, 30)\n",
    "\n",
    "def draw_snake(snake):\n",
    "    for segment in snake:\n",
    "        pygame.draw.rect(screen, GREEN, (*segment, CELL_SIZE, CELL_SIZE))\n",
    "        pygame.draw.rect(screen, LIGHT_GREEN, (*segment, CELL_SIZE, CELL_SIZE), 3)  # 외곽선 추가\n",
    "\n",
    "def draw_apple(apple):\n",
    "    pygame.draw.rect(screen, RED, (*apple, CELL_SIZE, CELL_SIZE))\n",
    "    pygame.draw.circle(screen, WHITE, (apple[0] + CELL_SIZE // 2, apple[1] + CELL_SIZE // 2), CELL_SIZE // 4)  # 사과 반짝임 추가\n",
    "\n",
    "def draw_grid():\n",
    "    for x in range(0, WIDTH, CELL_SIZE):\n",
    "        pygame.draw.line(screen, DARK_GRAY, (x, 0), (x, HEIGHT))\n",
    "    for y in range(0, HEIGHT, CELL_SIZE):\n",
    "        pygame.draw.line(screen, DARK_GRAY, (0, y), (WIDTH, y))\n",
    "\n",
    "def draw_text(text, x, y, font, color=WHITE):\n",
    "    render = font.render(text, True, color)\n",
    "    screen.blit(render, (x, y))\n",
    "\n",
    "def game_loop():\n",
    "    snake = [(100, 100), (80, 100), (60, 100)]\n",
    "    direction = (CELL_SIZE, 0)\n",
    "    apple = (random.randint(0, (WIDTH // CELL_SIZE) - 1) * CELL_SIZE,\n",
    "             random.randint(0, (HEIGHT // CELL_SIZE) - 1) * CELL_SIZE)\n",
    "    clock = pygame.time.Clock()\n",
    "    running = True\n",
    "    while running:\n",
    "        screen.fill(BLACK)\n",
    "        draw_grid()  # 배경 격자 추가\n",
    "        \n",
    "        for event in pygame.event.get():\n",
    "            if event.type == pygame.QUIT:\n",
    "                running = False\n",
    "            elif event.type == pygame.KEYDOWN:\n",
    "                if event.key == pygame.K_UP and direction != (0, CELL_SIZE):\n",
    "                    direction = (0, -CELL_SIZE)\n",
    "                elif event.key == pygame.K_DOWN and direction != (0, -CELL_SIZE):\n",
    "                    direction = (0, CELL_SIZE)\n",
    "                elif event.key == pygame.K_LEFT and direction != (CELL_SIZE, 0):\n",
    "                    direction = (-CELL_SIZE, 0)\n",
    "                elif event.key == pygame.K_RIGHT and direction != (-CELL_SIZE, 0):\n",
    "                    direction = (CELL_SIZE, 0)\n",
    "        \n",
    "        new_head = (snake[0][0] + direction[0], snake[0][1] + direction[1])\n",
    "        if (new_head in snake or new_head[0] < 0 or new_head[1] < 0 or\n",
    "                new_head[0] >= WIDTH or new_head[1] >= HEIGHT):\n",
    "            return  # 게임 종료\n",
    "        \n",
    "        snake.insert(0, new_head)\n",
    "        if new_head == apple:\n",
    "            apple = (random.randint(0, (WIDTH // CELL_SIZE) - 1) * CELL_SIZE,\n",
    "                     random.randint(0, (HEIGHT // CELL_SIZE) - 1) * CELL_SIZE)\n",
    "        else:\n",
    "            snake.pop()\n",
    "        \n",
    "        draw_snake(snake)\n",
    "        draw_apple(apple)\n",
    "        pygame.display.flip()\n",
    "        clock.tick(10)\n",
    "\n",
    "def main_menu():\n",
    "    while True:\n",
    "        screen.fill(BLUE)\n",
    "        draw_text(\"SNAKE GAME\", WIDTH // 4, HEIGHT // 5, font, WHITE)\n",
    "        \n",
    "        # 버튼 그리기\n",
    "        button_rect = pygame.Rect(WIDTH // 4, HEIGHT // 2, WIDTH // 2, 50)\n",
    "        pygame.draw.rect(screen, GRAY, button_rect)\n",
    "        pygame.draw.rect(screen, DARK_GRAY, button_rect, 3)\n",
    "        draw_text(\"START\", WIDTH // 2 - 40, HEIGHT // 2 + 10, small_font, BLACK)\n",
    "        \n",
    "        draw_text(\"Use arrow keys to move\", WIDTH // 4, HEIGHT // 1.5, small_font, WHITE)\n",
    "        pygame.display.flip()\n",
    "        \n",
    "        for event in pygame.event.get():\n",
    "            if event.type == pygame.QUIT:\n",
    "                pygame.quit()\n",
    "                return\n",
    "            elif event.type == pygame.KEYDOWN and event.key == pygame.K_SPACE:\n",
    "                game_loop()\n",
    "            elif event.type == pygame.MOUSEBUTTONDOWN:\n",
    "                if button_rect.collidepoint(event.pos):\n",
    "                    game_loop()\n",
    "\n",
    "main_menu()\n",
    "pygame.quit()\n"
   ]
  },
  {
   "cell_type": "markdown",
   "metadata": {},
   "source": [
    "1. 과일을 먹으면 뱀의 길이가 늘어난다.\n",
    "2. 뱀이 자기 몸에 부딪히면 죽는다\n",
    "3. 벽에 부딪히면 죽는다다"
   ]
  }
 ],
 "metadata": {
  "kernelspec": {
   "display_name": "Python 3",
   "language": "python",
   "name": "python3"
  },
  "language_info": {
   "codemirror_mode": {
    "name": "ipython",
    "version": 3
   },
   "file_extension": ".py",
   "mimetype": "text/x-python",
   "name": "python",
   "nbconvert_exporter": "python",
   "pygments_lexer": "ipython3",
   "version": "3.12.4"
  }
 },
 "nbformat": 4,
 "nbformat_minor": 2
}
